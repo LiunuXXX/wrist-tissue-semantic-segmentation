{
 "cells": [
  {
   "cell_type": "code",
   "execution_count": 1,
   "metadata": {},
   "outputs": [],
   "source": [
    "import logging\n",
    "import os\n",
    "from os.path import splitext\n",
    "from os import listdir\n",
    "import sys\n",
    "from utils.data_vis import plot_img_and_mask\n",
    "from utils.dataset import BasicMedicalDataset, mask_to_image\n",
    "from torch.utils.data import DataLoader, random_split\n",
    "from glob import glob"
   ]
  },
  {
   "cell_type": "code",
   "execution_count": 2,
   "metadata": {},
   "outputs": [
    {
     "name": "stdout",
     "output_type": "stream",
     "text": [
      "number of validation : 4\n",
      "number of training : 16\n"
     ]
    }
   ],
   "source": [
    "dir_img = 'data/0/T1/'\n",
    "dir_mask = 'data/0/CT/'\n",
    "dataset = BasicMedicalDataset(dir_img, dir_mask)\n",
    "val_percent = 0.2\n",
    "batch_size = 1\n",
    "epochs = 5\n",
    "n_val = int(len(dataset) * val_percent)\n",
    "n_train = len(dataset) - n_val\n",
    "print(f'number of validation : {n_val}')\n",
    "print(f'number of training : {n_train}')"
   ]
  },
  {
   "cell_type": "code",
   "execution_count": 3,
   "metadata": {},
   "outputs": [],
   "source": [
    "train, val = random_split(dataset, [n_train, n_val])"
   ]
  },
  {
   "cell_type": "code",
   "execution_count": 4,
   "metadata": {},
   "outputs": [],
   "source": [
    "train_loader = DataLoader(train, batch_size=batch_size, shuffle=True, num_workers=8, pin_memory=True)\n",
    "val_loader = DataLoader(val, batch_size=batch_size, shuffle=False, num_workers=8, pin_memory=True, drop_last=True)"
   ]
  },
  {
   "cell_type": "code",
   "execution_count": 5,
   "metadata": {},
   "outputs": [
    {
     "name": "stdout",
     "output_type": "stream",
     "text": [
      "data/0/CT/1.jpg\n",
      "['data/0/CT/1.jpg']\n"
     ]
    }
   ],
   "source": [
    "idx = \"1\"\n",
    "mask_suffix = \"\"\n",
    "print(dir_mask + idx + mask_suffix + '.jpg')\n",
    "mask_file = glob(dir_mask + idx + mask_suffix + '.jpg')\n",
    "print(mask_file)"
   ]
  },
  {
   "cell_type": "code",
   "execution_count": 6,
   "metadata": {},
   "outputs": [
    {
     "name": "stdout",
     "output_type": "stream",
     "text": [
      "['7', '14', '15', '9', '17', '2', '10', '8', '0', '12', '13', '18', '4', '16', '6', '11', '1', '19', '3', '5']\n"
     ]
    }
   ],
   "source": [
    "ids = [splitext(file)[0] for file in listdir(dir_img) if not file.startswith('.')]\n",
    "print(ids)"
   ]
  },
  {
   "cell_type": "code",
   "execution_count": 10,
   "metadata": {},
   "outputs": [
    {
     "name": "stdout",
     "output_type": "stream",
     "text": [
      "torch.Size([1, 1, 512, 512]) torch.Size([1, 1, 512, 512])\n",
      "torch.Size([1, 1, 512, 512]) torch.Size([1, 1, 512, 512])\n",
      "torch.Size([1, 1, 512, 512]) torch.Size([1, 1, 512, 512])\n",
      "torch.Size([1, 1, 512, 512]) torch.Size([1, 1, 512, 512])\n",
      "torch.Size([1, 1, 512, 512]) torch.Size([1, 1, 512, 512])\n",
      "torch.Size([1, 1, 512, 512]) torch.Size([1, 1, 512, 512])\n",
      "torch.Size([1, 1, 512, 512]) torch.Size([1, 1, 512, 512])\n",
      "torch.Size([1, 1, 512, 512]) torch.Size([1, 1, 512, 512])\n",
      "torch.Size([1, 1, 512, 512]) torch.Size([1, 1, 512, 512])\n",
      "torch.Size([1, 1, 512, 512]) torch.Size([1, 1, 512, 512])\n",
      "torch.Size([1, 1, 512, 512]) torch.Size([1, 1, 512, 512])\n",
      "torch.Size([1, 1, 512, 512]) torch.Size([1, 1, 512, 512])\n",
      "torch.Size([1, 1, 512, 512]) torch.Size([1, 1, 512, 512])\n",
      "torch.Size([1, 1, 512, 512]) torch.Size([1, 1, 512, 512])\n",
      "torch.Size([1, 1, 512, 512]) torch.Size([1, 1, 512, 512])\n",
      "torch.Size([1, 1, 512, 512]) torch.Size([1, 1, 512, 512])\n",
      "torch.Size([1, 1, 512, 512]) torch.Size([1, 1, 512, 512])\n",
      "torch.Size([1, 1, 512, 512]) torch.Size([1, 1, 512, 512])\n",
      "torch.Size([1, 1, 512, 512]) torch.Size([1, 1, 512, 512])\n",
      "torch.Size([1, 1, 512, 512]) torch.Size([1, 1, 512, 512])\n",
      "torch.Size([1, 1, 512, 512]) torch.Size([1, 1, 512, 512])\n",
      "torch.Size([1, 1, 512, 512]) torch.Size([1, 1, 512, 512])\n",
      "torch.Size([1, 1, 512, 512]) torch.Size([1, 1, 512, 512])\n",
      "torch.Size([1, 1, 512, 512]) torch.Size([1, 1, 512, 512])\n",
      "torch.Size([1, 1, 512, 512]) torch.Size([1, 1, 512, 512])\n",
      "torch.Size([1, 1, 512, 512]) torch.Size([1, 1, 512, 512])\n",
      "torch.Size([1, 1, 512, 512]) torch.Size([1, 1, 512, 512])\n",
      "torch.Size([1, 1, 512, 512]) torch.Size([1, 1, 512, 512])\n",
      "torch.Size([1, 1, 512, 512]) torch.Size([1, 1, 512, 512])\n",
      "torch.Size([1, 1, 512, 512]) torch.Size([1, 1, 512, 512])\n",
      "torch.Size([1, 1, 512, 512]) torch.Size([1, 1, 512, 512])\n",
      "torch.Size([1, 1, 512, 512]) torch.Size([1, 1, 512, 512])\n",
      "torch.Size([1, 1, 512, 512]) torch.Size([1, 1, 512, 512])\n",
      "torch.Size([1, 1, 512, 512]) torch.Size([1, 1, 512, 512])\n",
      "torch.Size([1, 1, 512, 512]) torch.Size([1, 1, 512, 512])\n",
      "torch.Size([1, 1, 512, 512]) torch.Size([1, 1, 512, 512])\n",
      "torch.Size([1, 1, 512, 512]) torch.Size([1, 1, 512, 512])\n",
      "torch.Size([1, 1, 512, 512]) torch.Size([1, 1, 512, 512])\n",
      "torch.Size([1, 1, 512, 512]) torch.Size([1, 1, 512, 512])\n",
      "torch.Size([1, 1, 512, 512]) torch.Size([1, 1, 512, 512])\n",
      "torch.Size([1, 1, 512, 512]) torch.Size([1, 1, 512, 512])\n",
      "torch.Size([1, 1, 512, 512]) torch.Size([1, 1, 512, 512])\n",
      "torch.Size([1, 1, 512, 512]) torch.Size([1, 1, 512, 512])\n",
      "torch.Size([1, 1, 512, 512]) torch.Size([1, 1, 512, 512])\n",
      "torch.Size([1, 1, 512, 512]) torch.Size([1, 1, 512, 512])\n",
      "torch.Size([1, 1, 512, 512]) torch.Size([1, 1, 512, 512])\n",
      "torch.Size([1, 1, 512, 512]) torch.Size([1, 1, 512, 512])\n",
      "torch.Size([1, 1, 512, 512]) torch.Size([1, 1, 512, 512])\n",
      "torch.Size([1, 1, 512, 512]) torch.Size([1, 1, 512, 512])\n",
      "torch.Size([1, 1, 512, 512]) torch.Size([1, 1, 512, 512])\n",
      "torch.Size([1, 1, 512, 512]) torch.Size([1, 1, 512, 512])\n",
      "torch.Size([1, 1, 512, 512]) torch.Size([1, 1, 512, 512])\n",
      "torch.Size([1, 1, 512, 512]) torch.Size([1, 1, 512, 512])\n",
      "torch.Size([1, 1, 512, 512]) torch.Size([1, 1, 512, 512])\n",
      "torch.Size([1, 1, 512, 512]) torch.Size([1, 1, 512, 512])\n",
      "torch.Size([1, 1, 512, 512]) torch.Size([1, 1, 512, 512])\n",
      "torch.Size([1, 1, 512, 512]) torch.Size([1, 1, 512, 512])\n",
      "torch.Size([1, 1, 512, 512]) torch.Size([1, 1, 512, 512])\n",
      "torch.Size([1, 1, 512, 512]) torch.Size([1, 1, 512, 512])\n",
      "torch.Size([1, 1, 512, 512]) torch.Size([1, 1, 512, 512])\n",
      "torch.Size([1, 1, 512, 512]) torch.Size([1, 1, 512, 512])\n",
      "torch.Size([1, 1, 512, 512]) torch.Size([1, 1, 512, 512])\n",
      "torch.Size([1, 1, 512, 512]) torch.Size([1, 1, 512, 512])\n",
      "torch.Size([1, 1, 512, 512]) torch.Size([1, 1, 512, 512])\n",
      "torch.Size([1, 1, 512, 512]) torch.Size([1, 1, 512, 512])\n",
      "torch.Size([1, 1, 512, 512]) torch.Size([1, 1, 512, 512])\n",
      "torch.Size([1, 1, 512, 512]) torch.Size([1, 1, 512, 512])\n",
      "torch.Size([1, 1, 512, 512]) torch.Size([1, 1, 512, 512])\n",
      "torch.Size([1, 1, 512, 512]) torch.Size([1, 1, 512, 512])\n",
      "torch.Size([1, 1, 512, 512]) torch.Size([1, 1, 512, 512])\n",
      "torch.Size([1, 1, 512, 512]) torch.Size([1, 1, 512, 512])\n",
      "torch.Size([1, 1, 512, 512]) torch.Size([1, 1, 512, 512])\n",
      "torch.Size([1, 1, 512, 512]) torch.Size([1, 1, 512, 512])\n",
      "torch.Size([1, 1, 512, 512]) torch.Size([1, 1, 512, 512])\n",
      "torch.Size([1, 1, 512, 512]) torch.Size([1, 1, 512, 512])\n",
      "torch.Size([1, 1, 512, 512]) torch.Size([1, 1, 512, 512])\n",
      "torch.Size([1, 1, 512, 512]) torch.Size([1, 1, 512, 512])\n",
      "torch.Size([1, 1, 512, 512]) torch.Size([1, 1, 512, 512])\n",
      "torch.Size([1, 1, 512, 512]) torch.Size([1, 1, 512, 512])\n",
      "torch.Size([1, 1, 512, 512]) torch.Size([1, 1, 512, 512])\n"
     ]
    }
   ],
   "source": [
    "for epoch in range(epochs):\n",
    "    for batch in train_loader:\n",
    "        imgs = batch['image']\n",
    "        true_masks = batch['mask']\n",
    "        print(imgs.shape, true_masks.shape)"
   ]
  },
  {
   "cell_type": "code",
   "execution_count": null,
   "metadata": {},
   "outputs": [],
   "source": []
  }
 ],
 "metadata": {
  "kernelspec": {
   "display_name": "Python 3",
   "language": "python",
   "name": "python3"
  },
  "language_info": {
   "codemirror_mode": {
    "name": "ipython",
    "version": 3
   },
   "file_extension": ".py",
   "mimetype": "text/x-python",
   "name": "python",
   "nbconvert_exporter": "python",
   "pygments_lexer": "ipython3",
   "version": "3.8.3"
  }
 },
 "nbformat": 4,
 "nbformat_minor": 4
}
