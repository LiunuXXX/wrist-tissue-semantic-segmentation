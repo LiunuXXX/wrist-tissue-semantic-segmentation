{
 "cells": [
  {
   "cell_type": "code",
   "execution_count": 1,
   "metadata": {},
   "outputs": [],
   "source": [
    "import logging\n",
    "import os\n",
    "from os.path import splitext\n",
    "from os import listdir\n",
    "import sys\n",
    "from utils.data_vis import plot_img_and_mask\n",
    "from utils.dataset import BasicMedicalDataset, cast_to_image\n",
    "from torch.utils.data import DataLoader, random_split\n",
    "import torchvision\n",
    "from glob import glob\n",
    "from torchvision import datasets, transforms\n",
    "from torch.utils import data\n",
    "from PIL import Image\n",
    "import matplotlib.pyplot as plt"
   ]
  },
  {
   "cell_type": "code",
   "execution_count": 2,
   "metadata": {},
   "outputs": [
    {
     "name": "stdout",
     "output_type": "stream",
     "text": [
      "number of validation : 41\n",
      "number of training : 166\n"
     ]
    }
   ],
   "source": [
    "root_imgs_dir = '../data/'\n",
    "imgs_dir_name = 'T1'\n",
    "mask_dir_name = 'MN'\n",
    "dataset = BasicMedicalDataset(root_imgs_dir, imgs_dir_name, mask_dir_name)\n",
    "val_percent = 0.2\n",
    "batch_size = 2\n",
    "epochs = 5\n",
    "n_val = int(len(dataset) * val_percent)\n",
    "n_train = len(dataset) - n_val\n",
    "print(f'number of validation : {n_val}')\n",
    "print(f'number of training : {n_train}')"
   ]
  },
  {
   "cell_type": "code",
   "execution_count": 3,
   "metadata": {},
   "outputs": [],
   "source": [
    "train, val = random_split(dataset, [n_train, n_val])"
   ]
  },
  {
   "cell_type": "code",
   "execution_count": 4,
   "metadata": {},
   "outputs": [],
   "source": [
    "train_loader = DataLoader(train, batch_size=batch_size, shuffle=True, num_workers=0, pin_memory=True)\n",
    "val_loader = DataLoader(val, batch_size=batch_size, shuffle=False, num_workers=0, pin_memory=True, drop_last=True)"
   ]
  },
  {
   "cell_type": "code",
   "execution_count": 6,
   "metadata": {},
   "outputs": [
    {
     "data": {
      "image/png": "[encoded data removed]",
      "text/plain": [
       "<Figure size 432x288 with 1 Axes>"
      ]
     },
     "metadata": {
      "needs_background": "light"
     },
     "output_type": "display_data"
    }
   ],
   "source": [
    "for epoch in range(epochs):\n",
    "    for batch in train_loader:\n",
    "        imgs = batch['image']\n",
    "        true_masks = batch['mask']\n",
    "        \n",
    "        #plt.imshow(cast_to_image(imgs[0]))\n",
    "        plt.imshow(cast_to_image(true_masks[0]))"
   ]
  }
 ],
 "metadata": {
  "kernelspec": {
   "display_name": "Python 3",
   "language": "python",
   "name": "python3"
  },
  "language_info": {
   "codemirror_mode": {
    "name": "ipython",
    "version": 3
   },
   "file_extension": ".py",
   "mimetype": "text/x-python",
   "name": "python",
   "nbconvert_exporter": "python",
   "pygments_lexer": "ipython3",
   "version": "3.8.3"
  }
 },
 "nbformat": 4,
 "nbformat_minor": 4
}
